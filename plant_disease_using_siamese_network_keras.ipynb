{
  "metadata": {
    "kernelspec": {
      "language": "python",
      "display_name": "Python 3",
      "name": "python3"
    },
    "language_info": {
      "pygments_lexer": "ipython3",
      "nbconvert_exporter": "python",
      "version": "3.6.4",
      "file_extension": ".py",
      "codemirror_mode": {
        "name": "ipython",
        "version": 3
      },
      "name": "python",
      "mimetype": "text/x-python"
    },
    "colab": {
      "provenance": []
    }
  },
  "nbformat_minor": 0,
  "nbformat": 4,
  "cells": [
    {
      "cell_type": "markdown",
      "source": [
        "# Plant Disease Using Siamese Network - Keras"
      ],
      "metadata": {
        "id": "fWsoOTP14hHI"
      }
    },
    {
      "cell_type": "markdown",
      "source": [
        "We will understand the siamese network by building the plant disease model. The objective of our network is to understand whether two plants are similar or dissimilar.\n",
        "\n",
        "Once we have our data as pairs along with their labels, we train our siamese network. From the image pair, we feed one image to the network A and another image to the network B. The role of these two networks is only to extract the feature vectors. So, we use two convolution layers with relu activations for extracting the features. Once we have learned the feature, we feed the resultant feature vector from both of the networks to the energy function which measures the similarity, we use Euclidean distance as our energy function. So, we train our network by feeding the image pair to learn the semantic similarity between them.\n",
        "\n",
        "**What is Siamese Neural Network?**\n",
        "\n",
        "Siamese Neural Network is a special type of neural network in first we train an image with a sequence of convolutional layers, pooling layers and fully connected layers we end up with a feature vector f(x1).\n",
        "Then we train another image in the same sequence to get another feature vector f(x2). Now we compute d which will be the distance between each of the points in feature vector f(x1) with the feature vector f(x2).\n",
        "If d is small we can tell both images are same else if d is large it’s the other way round.\n",
        "\n",
        "![Fig 1: A Siamese Neural Network for Image Recognition](https://miro.medium.com/max/1068/1*V27gq7s7elBc8G52T8t1LQ.png)\n",
        "\n",
        "\n",
        "**One-shot Image Recognition**\n",
        "\n",
        "People may ask why have they used One-shot image recognition method though there are other state of art models like CNN and Hierarchical Bayesian Program Learning. The main reason for people using this method is the lack of data. The state of art Machine Learning Algorithms work very well when there is a huge amount of data but can fail miserably if there is a data scarcity.\n",
        "\n",
        "In this method the model must make the correct prediction given only one example in each class in the training set. In this paper however the author has used more than one example for each class but it is very less compared to what the state of art algorithm requires.\n"
      ],
      "metadata": {
        "id": "keymrCby4hHO"
      }
    },
    {
      "cell_type": "markdown",
      "source": [
        "References :\n",
        "* https://github.com/sudharsan13296/Hands-On-Meta-Learning-With-Python/blob/master/02.%20Face%20and%20Audio%20Recognition%20using%20Siamese%20Networks/2.4%20Face%20Recognition%20Using%20Siamese%20Network.ipynb\n",
        "* https://keras.io/examples/mnist_siamese/\n",
        "* https://msiam.github.io/Few-Shot-Learning/\n",
        "* https://towardsdatascience.com/one-shot-learning-with-siamese-networks-using-keras-17f34e75bb3d\n",
        "* https://medium.com/@subham.tiwari186/siamese-neural-network-for-one-shot-image-recognition-paper-analysis-44cf7f0c66cb\n",
        "* https://www.katnoria.com/siamese-one-shot/\n",
        "* https://sorenbouma.github.io/blog/oneshot/"
      ],
      "metadata": {
        "id": "aWSdp0OV4hHQ"
      }
    },
    {
      "cell_type": "code",
      "source": [
        "import re\n",
        "import numpy as np\n",
        "from PIL import Image\n",
        "\n",
        "from sklearn.model_selection import train_test_split\n",
        "from keras import backend as K\n",
        "from keras.layers import Activation\n",
        "from keras.layers import Input, Lambda, Dense, Dropout, Convolution2D, MaxPooling2D, Flatten\n",
        "from keras.models import Sequential, Model\n",
        "from keras.optimizers import RMSprop\n",
        "from keras import optimizers\n",
        "\n",
        "import matplotlib.image as mpimg \n",
        "import matplotlib.pyplot as plt \n",
        "\n",
        "from keras import callbacks\n",
        "from keras.callbacks import ModelCheckpoint, LearningRateScheduler, EarlyStopping, ReduceLROnPlateau, TensorBoard\n",
        "import os\n",
        "from keras.models import Model,load_model\n",
        "import json\n",
        "from keras.models import model_from_json, load_model\n",
        "from keras.layers import Dense, Dropout, Flatten, Conv2D, MaxPool2D, BatchNormalization\n",
        "import warnings\n",
        "warnings.filterwarnings('ignore')"
      ],
      "metadata": {
        "trusted": true,
        "id": "YUbv3QGN4hHR"
      },
      "execution_count": null,
      "outputs": []
    },
    {
      "cell_type": "code",
      "source": [
        "selected_image_size = 224\n",
        "resize = True\n",
        "total_sample_size = 10000 # 5k-50k\n",
        "\n",
        "channel = 1\n",
        "size = 2\n",
        "\n",
        "folder_count = 38\n",
        "image_count = 20 #0-50\n",
        "\n",
        "if resize == True:\n",
        "    batch_size=256\n",
        "else:\n",
        "    batch_size=64\n",
        "\n",
        "path =  os.path.join('../input/plantvillage/plantvillage_resize_224/PlantVillage_resize_224/')\n",
        "print(path)"
      ],
      "metadata": {
        "trusted": true,
        "id": "5VwlvUOt4hHT"
      },
      "execution_count": null,
      "outputs": []
    },
    {
      "cell_type": "markdown",
      "source": [
        "Now, we define a function for reading our input image. The function read_image takes input as an image and returns the numpy array.\n",
        "These feat_vecs_a and feat_vecs_b are the feature vectors of our image pair. Next, we feed this feature vectors to the energy function to compute the distance between them, we use Euclidean distance as our energy function. Next, we define our loss function as contrastive_loss function and compile the model."
      ],
      "metadata": {
        "id": "2LsXE8Rz4hHU"
      }
    },
    {
      "cell_type": "code",
      "source": [
        "def read_image(filename, byteorder='>'):\n",
        "    \n",
        "    #first we read the image, as a raw file to the buffer\n",
        "    with open(filename, 'rb') as f:\n",
        "        buffer = f.read()\n",
        "    \n",
        "    #using regex, we extract the header, width, height and maxval of the image\n",
        "    header, width, height, maxval = re.search(\n",
        "        b\"(^P5\\s(?:\\s*#.*[\\r\\n])*\"\n",
        "        b\"(\\d+)\\s(?:\\s*#.*[\\r\\n])*\"\n",
        "        b\"(\\d+)\\s(?:\\s*#.*[\\r\\n])*\"\n",
        "        b\"(\\d+)\\s(?:\\s*#.*[\\r\\n]\\s)*)\", buffer).groups()\n",
        "    \n",
        "    #then we convert the image to numpy array using np.frombuffer which interprets buffer as one dimensional array\n",
        "    return np.frombuffer(buffer,\n",
        "                            dtype='u1' if int(maxval) < 256 else byteorder+'u2',\n",
        "                            count=int(width)*int(height),\n",
        "                            offset=len(header)\n",
        "                            ).reshape((int(height), int(width)))\n",
        "\n",
        "\n",
        "def euclidean_distance(vects):\n",
        "    x, y = vects\n",
        "    return K.sqrt(K.sum(K.square(x - y), axis=1, keepdims=True))\n",
        "\n",
        "\n",
        "def eucl_dist_output_shape(shapes):\n",
        "    shape1, shape2 = shapes\n",
        "    return (shape1[0], 1)\n",
        "\n",
        "def contrastive_loss(y_true, y_pred):\n",
        "    margin = 1\n",
        "    return K.mean(y_true * K.square(y_pred) + (1 - y_true) * K.square(K.maximum(margin - y_pred, 0)))\n",
        "\n",
        "def compute_accuracy(predictions, labels):\n",
        "    '''Compute classification accuracy with a fixed threshold on distances.\n",
        "    '''\n",
        "    return labels[predictions.ravel() < 0.5].mean()\n",
        "\n",
        "def accuracy(y_true, y_pred):\n",
        "    '''Compute classification accuracy with a fixed threshold on distances.\n",
        "    '''\n",
        "    return K.mean(K.equal(y_true, K.cast(y_pred < 0.5, y_true.dtype)))"
      ],
      "metadata": {
        "trusted": true,
        "id": "FYxs_4zi4hHU"
      },
      "execution_count": null,
      "outputs": []
    },
    {
      "cell_type": "markdown",
      "source": [
        "For an example, Let us open one image,"
      ],
      "metadata": {
        "id": "zWTQ-V3u4hHV"
      }
    },
    {
      "cell_type": "code",
      "source": [
        "Image.open(path+'s1/1.jpg')"
      ],
      "metadata": {
        "trusted": true,
        "id": "rKVuXl6a4hHW"
      },
      "execution_count": null,
      "outputs": []
    },
    {
      "cell_type": "code",
      "source": [
        "image = mpimg.imread(path+'s1/1.jpg')\n",
        "dim1 = image.shape[0]\n",
        "print('dim1',dim1)\n",
        "dim2 = image.shape[1]\n",
        "print('dim2',dim2)"
      ],
      "metadata": {
        "trusted": true,
        "id": "x-y2i_qE4hHW"
      },
      "execution_count": null,
      "outputs": []
    },
    {
      "cell_type": "code",
      "source": [
        "image.shape"
      ],
      "metadata": {
        "trusted": true,
        "id": "maSpavg74hHX"
      },
      "execution_count": null,
      "outputs": []
    },
    {
      "cell_type": "markdown",
      "source": [
        "Now, we define another function get_data for generating our data. As we know, for the Siamese network, data should be in the form of pairs (genuine and imposite) with a binary label.\n",
        "\n",
        "First, we read the images (img1, img2) from the same directory and store them in the x_genuine_pair array and assign y_genuine to 1. Next, we read the images (img1, img2) from the different directory and store them in the x_imposite pair and assign y_imposite to 0.\n",
        "\n",
        "Finally, we concatenate both x_genuine_pair, x_imposite to X and y_genuine, y_imposite to Y:"
      ],
      "metadata": {
        "id": "IYnlRazx4hHX"
      }
    },
    {
      "cell_type": "markdown",
      "source": [
        "# To prepare the data"
      ],
      "metadata": {
        "id": "xNkZuxtf4hHY"
      }
    },
    {
      "cell_type": "code",
      "source": [
        "def get_data(size, total_sample_size):\n",
        "    #read the image\n",
        "    image = mpimg.imread(path+'s' + str(1) + '/' + str(1) + '.jpg', 'rw+')\n",
        "    #reduce the size\n",
        "    if resize == True:\n",
        "        image = image[::size, ::size]\n",
        "    #get the new size\n",
        "    dim1 = image.shape[0]\n",
        "    dim2 = image.shape[1]\n",
        "\n",
        "    count = 0\n",
        "\n",
        "    #initialize the numpy array with the shape of [total_sample, no_of_pairs, dim1, dim2]\n",
        "    x_geuine_pair = np.zeros([total_sample_size, 2, 1, dim1, dim2])\n",
        "\n",
        "    y_genuine = np.zeros([total_sample_size,1])\n",
        "\n",
        "    for i in range(folder_count):\n",
        "        for j in range(int(total_sample_size/folder_count)):\n",
        "            ind1 = 0\n",
        "            ind2 = 0\n",
        "\n",
        "            #read images from same directory (genuine pair)\n",
        "            while ind1 == ind2:\n",
        "                ind1 = np.random.randint(image_count)\n",
        "                ind2 = np.random.randint(image_count)\n",
        "\n",
        "            # read the two images\n",
        "            img1 = mpimg.imread(path+'s' + str(i+1) + '/' + str(ind1 + 1) + '.jpg', 'rw+')\n",
        "            img2 = mpimg.imread(path+'s' + str(i+1) + '/' + str(ind2 + 1) + '.jpg', 'rw+')\n",
        "\n",
        "            #reduce the size\n",
        "            if resize == True:\n",
        "                img1 = img1[::size, ::size]\n",
        "                img2 = img2[::size, ::size]\n",
        "\n",
        "            #store the images to the initialized numpy array\n",
        "            print\n",
        "            x_geuine_pair[count, 0, 0, :, :] = img1\n",
        "            x_geuine_pair[count, 1, 0, :, :] = img2\n",
        "\n",
        "            #as we are drawing images from the same directory we assign label as 1. (genuine pair)\n",
        "            y_genuine[count] = 1\n",
        "            count += 1\n",
        "\n",
        "    count = 0\n",
        "    x_imposite_pair = np.zeros([total_sample_size, 2, 1, dim1, dim2])\n",
        "    y_imposite = np.zeros([total_sample_size, 1])\n",
        "\n",
        "    for i in range(int(total_sample_size/image_count)):\n",
        "        for j in range(image_count):\n",
        "\n",
        "            #read images from different directory (imposite pair)\n",
        "            while True:\n",
        "                ind1 = np.random.randint(folder_count)\n",
        "                ind2 = np.random.randint(folder_count)\n",
        "                if ind1 != ind2:\n",
        "                    break\n",
        "\n",
        "            img1 = mpimg.imread(path+'s' + str(ind1+1) + '/' + str(j + 1) + '.jpg', 'rw+')\n",
        "            img2 = mpimg.imread(path+'s' + str(ind2+1) + '/' + str(j + 1) + '.jpg', 'rw+')\n",
        "\n",
        "            if resize == True:\n",
        "                img1 = img1[::size, ::size]\n",
        "                img2 = img2[::size, ::size]\n",
        "\n",
        "            x_imposite_pair[count, 0, 0, :, :] = img1\n",
        "            x_imposite_pair[count, 1, 0, :, :] = img2\n",
        "            #as we are drawing images from the different directory we assign label as 0. (imposite pair)\n",
        "            y_imposite[count] = 0\n",
        "            count += 1\n",
        "\n",
        "    #now, concatenate, genuine pairs and imposite pair to get the whole data\n",
        "    #print(x_geuine_pair.shape)\n",
        "    #print(x_imposite_pair.shape)\n",
        "    X = np.concatenate([x_geuine_pair, x_imposite_pair], axis=0)/255\n",
        "    Y = np.concatenate([y_genuine, y_imposite], axis=0)\n",
        "\n",
        "    return X, Y\n",
        "X, Y = get_data(size, total_sample_size)"
      ],
      "metadata": {
        "trusted": true,
        "id": "cvcYAn6L4hHY"
      },
      "execution_count": null,
      "outputs": []
    },
    {
      "cell_type": "markdown",
      "source": [
        "\n",
        "Now, we generate our data and check our data size. As you can see we have 20,000 data points, out of these 10,000 are genuine pairs and 10,000 are imposite pairs."
      ],
      "metadata": {
        "id": "lChJH8x_4hHY"
      }
    },
    {
      "cell_type": "code",
      "source": [
        "X.shape"
      ],
      "metadata": {
        "trusted": true,
        "id": "Zkj2dUYU4hHY"
      },
      "execution_count": null,
      "outputs": []
    },
    {
      "cell_type": "code",
      "source": [
        "Y.shape"
      ],
      "metadata": {
        "trusted": true,
        "id": "kD_ba5dL4hHZ"
      },
      "execution_count": null,
      "outputs": []
    },
    {
      "cell_type": "code",
      "source": [
        "import seaborn as sns\n",
        "import matplotlib.pyplot as plt\n",
        "plt.figure(figsize=(10,5))\n",
        "sns.countplot(Y[:,0])\n",
        "plt.show()"
      ],
      "metadata": {
        "trusted": true,
        "id": "51O7hjQH4hHZ"
      },
      "execution_count": null,
      "outputs": []
    },
    {
      "cell_type": "markdown",
      "source": [
        "Next, we split our data for training and testing with 85% training and 15% testing proportions:"
      ],
      "metadata": {
        "id": "_uyDh0xm4hHZ"
      }
    },
    {
      "cell_type": "code",
      "source": [
        "x_train, x_test, y_train, y_test = train_test_split(X, Y, test_size=.15)"
      ],
      "metadata": {
        "trusted": true,
        "id": "mBRR2NFD4hHa"
      },
      "execution_count": null,
      "outputs": []
    },
    {
      "cell_type": "code",
      "source": [
        "print('x_train',x_train.shape)\n",
        "print('x_test',x_test.shape)\n",
        "print('y_train',y_train.shape)\n",
        "print('y_test',y_test.shape)"
      ],
      "metadata": {
        "trusted": true,
        "id": "rk8HgH404hHa"
      },
      "execution_count": null,
      "outputs": []
    },
    {
      "cell_type": "markdown",
      "source": [
        "Now that, we have successfully generated our data, we build our siamese network. First, we define the base network which is basically a convolutional network used for feature extraction. We build two convolutional layers with rectified linear unit (ReLU) activations and max pooling followed by flat layer."
      ],
      "metadata": {
        "id": "IE_iPPOK4hHa"
      }
    },
    {
      "cell_type": "markdown",
      "source": [
        "# Preparing the Network"
      ],
      "metadata": {
        "id": "_ug1CtXf4hHa"
      }
    },
    {
      "cell_type": "code",
      "source": [
        "def build_base_network(input_shape):\n",
        "    \n",
        "    seq = Sequential()\n",
        "    \n",
        "    nb_filter = [16, 32, 16]\n",
        "    kernel_size = 3\n",
        "    \n",
        "    \n",
        "    #convolutional layer 1\n",
        "    seq.add(Convolution2D(nb_filter[0], kernel_size, kernel_size, input_shape=input_shape,border_mode='valid', dim_ordering='th'))\n",
        "    seq.add(Activation('relu'))\n",
        "    seq.add(MaxPooling2D(pool_size=(2, 2)))  \n",
        "    seq.add(Dropout(.25))\n",
        "    \n",
        "    #convolutional layer 2\n",
        "    seq.add(Convolution2D(nb_filter[1], kernel_size, kernel_size, border_mode='valid', dim_ordering='th'))\n",
        "    seq.add(Activation('relu'))\n",
        "    seq.add(MaxPooling2D(pool_size=(2, 2), dim_ordering='th')) \n",
        "    seq.add(Dropout(.25))\n",
        "    \n",
        "    #convolutional layer 2\n",
        "    seq.add(Convolution2D(nb_filter[2], kernel_size, kernel_size, border_mode='valid', dim_ordering='th'))\n",
        "    seq.add(Activation('relu'))\n",
        "    seq.add(MaxPooling2D(pool_size=(2, 2), dim_ordering='th')) \n",
        "    seq.add(Dropout(.25))\n",
        "\n",
        "    #flatten \n",
        "    seq.add(Flatten())\n",
        "    seq.add(Dense(128, activation='relu'))\n",
        "    seq.add(Dropout(0.1))\n",
        "    seq.add(Dense(50, activation='relu'))\n",
        "    return seq"
      ],
      "metadata": {
        "trusted": true,
        "id": "ag6ARyuJ4hHb"
      },
      "execution_count": null,
      "outputs": []
    },
    {
      "cell_type": "markdown",
      "source": [
        "Next, we feed the image pair, to the base network, which will return the embeddings that is, feature vectors:"
      ],
      "metadata": {
        "id": "YdUg2AbH4hHb"
      }
    },
    {
      "cell_type": "code",
      "source": [
        "input_dim = x_train.shape[2:]\n",
        "img_a = Input(shape=input_dim)\n",
        "img_b = Input(shape=input_dim)\n",
        "print('input_dim',input_dim)"
      ],
      "metadata": {
        "trusted": true,
        "id": "wzrxc_D-4hHc"
      },
      "execution_count": null,
      "outputs": []
    },
    {
      "cell_type": "code",
      "source": [
        "base_network = build_base_network(input_dim)\n",
        "feat_vecs_a = base_network(img_a)\n",
        "feat_vecs_b = base_network(img_b)"
      ],
      "metadata": {
        "trusted": true,
        "id": "qLLge7X-4hHc"
      },
      "execution_count": null,
      "outputs": []
    },
    {
      "cell_type": "code",
      "source": [
        "distance = Lambda(euclidean_distance, output_shape=eucl_dist_output_shape)([feat_vecs_a, feat_vecs_b])"
      ],
      "metadata": {
        "trusted": true,
        "id": "WYME7ocC4hHc"
      },
      "execution_count": null,
      "outputs": []
    },
    {
      "cell_type": "markdown",
      "source": [
        "Now, we set the epoch length to 20 and we use RMS prop for optimization and define our model."
      ],
      "metadata": {
        "id": "_m2vgie54hHc"
      }
    },
    {
      "cell_type": "code",
      "source": [
        "epochs = 20\n",
        "rms = optimizers.Adam(lr=0.0001, beta_1=0.9, beta_2=0.999, epsilon=None, decay=0.0, amsgrad=False)#RMSprop()\n",
        "rms = RMSprop()\n",
        "\n",
        "earlyStopping = EarlyStopping(monitor='val_loss',\n",
        "                              min_delta=0,\n",
        "                              patience=3,\n",
        "                              verbose=1,\n",
        "                              restore_best_weights=True)\n",
        "callback_early_stop_reduceLROnPlateau=[earlyStopping]"
      ],
      "metadata": {
        "trusted": true,
        "id": "TPckpjFC4hHc"
      },
      "execution_count": null,
      "outputs": []
    },
    {
      "cell_type": "code",
      "source": [
        "model = Model(input=[img_a, img_b], output=distance)\n",
        "model.compile(loss=contrastive_loss, optimizer=rms,metrics=[accuracy])\n",
        "model.summary()"
      ],
      "metadata": {
        "trusted": true,
        "id": "GIKodpJa4hHc"
      },
      "execution_count": null,
      "outputs": []
    },
    {
      "cell_type": "code",
      "source": [
        "img_1 = x_train[:, 0]\n",
        "img2 = x_train[:, 1]\n",
        "img_1.shape\n",
        "history = model.fit([img_1, img2], y_train, validation_split=.20,\n",
        "      batch_size= batch_size, verbose=1, nb_epoch=epochs, callbacks=callback_early_stop_reduceLROnPlateau)\n",
        "\n",
        "# Option 1: Save Weights + Architecture\n",
        "model.save_weights('model_weights.h5')\n",
        "with open('model_architecture.json', 'w') as f:\n",
        "    f.write(model.to_json())\n",
        "print('saved')"
      ],
      "metadata": {
        "scrolled": true,
        "trusted": true,
        "id": "xaBTnjpD4hHd"
      },
      "execution_count": null,
      "outputs": []
    },
    {
      "cell_type": "markdown",
      "source": [
        "Now, we make predictions with test data. Finally, we check our model accuracy."
      ],
      "metadata": {
        "id": "xoSJfLZb4hHd"
      }
    },
    {
      "cell_type": "markdown",
      "source": [
        "# Predictions"
      ],
      "metadata": {
        "id": "b_ag7rIH4hHd"
      }
    },
    {
      "cell_type": "code",
      "source": [
        "pred = model.predict([x_test[:, 0], x_test[:, 1]])\n",
        "\n",
        "print('Accuracy on test set: %0.2f%%' % (100 * compute_accuracy(pred, y_test)))"
      ],
      "metadata": {
        "trusted": true,
        "id": "Eruc7l2_4hHd"
      },
      "execution_count": null,
      "outputs": []
    },
    {
      "cell_type": "code",
      "source": [
        "pred = model.predict([x_train[:, 0], x_train[:, 1]])\n",
        "\n",
        "print('* Accuracy on training set: %0.2f%%' % (100  * compute_accuracy(pred, y_train)))"
      ],
      "metadata": {
        "trusted": true,
        "id": "IlDnXmeh4hHd"
      },
      "execution_count": null,
      "outputs": []
    },
    {
      "cell_type": "code",
      "source": [
        "acc = history.history['accuracy']\n",
        "val_acc = history.history['val_accuracy']\n",
        "loss = history.history['loss']\n",
        "val_loss = history.history['val_loss']\n",
        "epochs = range(1, len(acc) + 1)\n",
        "#Train and validation accuracy\n",
        "plt.plot(epochs, acc, 'b', label='Training accurarcy')\n",
        "plt.plot(epochs, val_acc, 'r', label='Validation accurarcy')\n",
        "plt.title('Training and Validation accurarcy')\n",
        "plt.legend()\n",
        "\n",
        "plt.figure()\n",
        "#Train and validation loss\n",
        "plt.plot(epochs, loss, 'b', label='Training loss')\n",
        "plt.plot(epochs, val_loss, 'r', label='Validation loss')\n",
        "plt.title('Training and Validation loss')\n",
        "plt.legend()\n",
        "plt.show()"
      ],
      "metadata": {
        "trusted": true,
        "id": "AxfwoNi14hHe"
      },
      "execution_count": null,
      "outputs": []
    },
    {
      "cell_type": "markdown",
      "source": [
        "# Test"
      ],
      "metadata": {
        "id": "flCZvjH44hHe"
      }
    },
    {
      "cell_type": "code",
      "source": [
        "if resize==True:\n",
        "    selected_image_size = int(selected_image_size/2)\n",
        "    print('selected_image_size',selected_image_size)"
      ],
      "metadata": {
        "trusted": true,
        "id": "L6eqOkxj4hHe"
      },
      "execution_count": null,
      "outputs": []
    },
    {
      "cell_type": "code",
      "source": [
        "target_label = 1\n",
        "values = np.array(y_test[:,0])\n",
        "\n",
        "target_index = values.tolist().index(target_label)\n",
        "print(target_index)\n",
        "print('target_index value : ',y_test[target_index])"
      ],
      "metadata": {
        "trusted": true,
        "id": "_iOtGDIB4hHm"
      },
      "execution_count": null,
      "outputs": []
    },
    {
      "cell_type": "code",
      "source": [
        "img1 = (x_test[target_index, 0] * 255).astype(np.uint8)\n",
        "img1 = img1.reshape(selected_image_size,selected_image_size)\n",
        "print(img1.shape)\n",
        "img1\n",
        "plt.imshow(img1)\n",
        "plt.show()"
      ],
      "metadata": {
        "trusted": true,
        "id": "D6Nmao7G4hHm"
      },
      "execution_count": null,
      "outputs": []
    },
    {
      "cell_type": "code",
      "source": [
        "img2 = (x_test[target_index, 1] * 255).astype(np.uint8)\n",
        "img2 = img2.reshape(selected_image_size,selected_image_size)\n",
        "print(img2.shape)\n",
        "img2\n",
        "plt.imshow(img2)\n",
        "plt.show()"
      ],
      "metadata": {
        "trusted": true,
        "id": "qD17U8Wm4hHm"
      },
      "execution_count": null,
      "outputs": []
    },
    {
      "cell_type": "code",
      "source": [
        "x_test[target_index:target_index+1, 0].shape"
      ],
      "metadata": {
        "trusted": true,
        "id": "Vwp3gsJE4hHn"
      },
      "execution_count": null,
      "outputs": []
    },
    {
      "cell_type": "code",
      "source": [
        "pred = model.predict([x_test[target_index:target_index+1, 0], x_test[target_index:target_index+1, 1]])\n",
        "pred = pred < 0.5\n",
        "print('y_test[target_index]:',y_test[target_index,0]==True,' pred :',pred)"
      ],
      "metadata": {
        "trusted": true,
        "id": "8yXxg4sm4hHn"
      },
      "execution_count": null,
      "outputs": []
    },
    {
      "cell_type": "code",
      "source": [],
      "metadata": {
        "id": "F8xUTNnx4hHn"
      },
      "execution_count": null,
      "outputs": []
    }
  ]
}